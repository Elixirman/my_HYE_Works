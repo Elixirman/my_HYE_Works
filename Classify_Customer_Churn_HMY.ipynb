{
  "nbformat": 4,
  "nbformat_minor": 0,
  "metadata": {
    "colab": {
      "provenance": [],
      "toc_visible": true
    },
    "kernelspec": {
      "name": "python3",
      "display_name": "Python 3"
    },
    "language_info": {
      "name": "python"
    }
  },
  "cells": [
    {
      "cell_type": "markdown",
      "source": [
        "# TOPIC"
      ],
      "metadata": {
        "id": "LsJvF47n_g5U"
      }
    },
    {
      "cell_type": "markdown",
      "source": [
        "Telco Customer Churn"
      ],
      "metadata": {
        "id": "WiHA7bD0_l-I"
      }
    },
    {
      "cell_type": "markdown",
      "source": [
        "# Dataset Information"
      ],
      "metadata": {
        "id": "RwLoVEms9U9H"
      }
    },
    {
      "cell_type": "markdown",
      "source": [
        "About Dataset\n",
        "\n",
        "Predict behavior to retain customers. You can analyze all relevant customer data and develop focused customer retention programs.\n",
        "\n",
        "Dataset:\n",
        "\n",
        "https://www.kaggle.com/datasets/blastchar/telco-customer-churn\n",
        "\n",
        "Each row represents a customer, each column contains customer’s attributes described on the column Metadata.\n",
        "\n",
        "The data set includes information about:\n",
        "\n",
        "Customers who left within the last month – the column is called Churn\n",
        "\n",
        "Services that each customer has signed up for :\n",
        "\n",
        "phone,\n",
        "\n",
        "multiple lines,\n",
        "\n",
        "Internet,\n",
        "\n",
        "online security,\n",
        "\n",
        "online backup,\n",
        "\n",
        "device protection,\n",
        "\n",
        "tech support, and\n",
        "\n",
        "streaming TV and movies\n",
        "\n",
        "Customer account information – how long they’ve been a customer, contract, payment method, paperless billing, monthly charges, and total charges\n",
        "\n",
        "Demographic info about customers – gender, age range, and if they have partners and dependents"
      ],
      "metadata": {
        "id": "fUo5l9rR_Vwq"
      }
    },
    {
      "cell_type": "markdown",
      "source": [
        "# Dependencies"
      ],
      "metadata": {
        "id": "t1-4XYMQ9WtS"
      }
    },
    {
      "cell_type": "code",
      "source": [
        "import pandas as pd\n",
        "import numpy as np\n",
        "from sklearn.model_selection import train_test_split\n",
        "from sklearn.preprocessing import StandardScaler, OneHotEncoder\n",
        "from sklearn.ensemble import RandomForestClassifier, ExtraTreesClassifier\n",
        "from xgboost import XGBClassifier\n",
        "from lightgbm import LGBMClassifier\n",
        "from sklearn.metrics import classification_report\n",
        "from sklearn.model_selection import RandomizedSearchCV\n",
        "from sklearn.ensemble import ExtraTreesClassifier"
      ],
      "metadata": {
        "id": "vmSxvBLr9ZwQ"
      },
      "execution_count": 36,
      "outputs": []
    },
    {
      "cell_type": "markdown",
      "source": [
        "# Data Importation"
      ],
      "metadata": {
        "id": "7FwTvj-w9fGP"
      }
    },
    {
      "cell_type": "code",
      "source": [
        "df = pd.read_csv(\"/content/WA_Fn-UseC_-Telco-Customer-Churn.csv\")\n"
      ],
      "metadata": {
        "id": "L5RZj2nN9i7k"
      },
      "execution_count": 37,
      "outputs": []
    },
    {
      "cell_type": "markdown",
      "source": [
        "## Data Head"
      ],
      "metadata": {
        "id": "_-Y-hc1l-PHl"
      }
    },
    {
      "cell_type": "code",
      "source": [
        "# Preview data head\n",
        "df.head()"
      ],
      "metadata": {
        "colab": {
          "base_uri": "https://localhost:8080/",
          "height": 342
        },
        "id": "wOuAFixg-Q1n",
        "outputId": "cb439c28-477f-4569-afd1-a7edcc25ca5e"
      },
      "execution_count": 38,
      "outputs": [
        {
          "output_type": "execute_result",
          "data": {
            "text/plain": [
              "   customerID  gender  SeniorCitizen Partner Dependents  tenure PhoneService  \\\n",
              "0  7590-VHVEG  Female              0     Yes         No       1           No   \n",
              "1  5575-GNVDE    Male              0      No         No      34          Yes   \n",
              "2  3668-QPYBK    Male              0      No         No       2          Yes   \n",
              "3  7795-CFOCW    Male              0      No         No      45           No   \n",
              "4  9237-HQITU  Female              0      No         No       2          Yes   \n",
              "\n",
              "      MultipleLines InternetService OnlineSecurity  ... DeviceProtection  \\\n",
              "0  No phone service             DSL             No  ...               No   \n",
              "1                No             DSL            Yes  ...              Yes   \n",
              "2                No             DSL            Yes  ...               No   \n",
              "3  No phone service             DSL            Yes  ...              Yes   \n",
              "4                No     Fiber optic             No  ...               No   \n",
              "\n",
              "  TechSupport StreamingTV StreamingMovies        Contract PaperlessBilling  \\\n",
              "0          No          No              No  Month-to-month              Yes   \n",
              "1          No          No              No        One year               No   \n",
              "2          No          No              No  Month-to-month              Yes   \n",
              "3         Yes          No              No        One year               No   \n",
              "4          No          No              No  Month-to-month              Yes   \n",
              "\n",
              "               PaymentMethod MonthlyCharges  TotalCharges Churn  \n",
              "0           Electronic check          29.85         29.85    No  \n",
              "1               Mailed check          56.95        1889.5    No  \n",
              "2               Mailed check          53.85        108.15   Yes  \n",
              "3  Bank transfer (automatic)          42.30       1840.75    No  \n",
              "4           Electronic check          70.70        151.65   Yes  \n",
              "\n",
              "[5 rows x 21 columns]"
            ],
            "text/html": [
              "\n",
              "  <div id=\"df-f74fe9d7-7a4d-45fb-8d02-1224745c7cff\" class=\"colab-df-container\">\n",
              "    <div>\n",
              "<style scoped>\n",
              "    .dataframe tbody tr th:only-of-type {\n",
              "        vertical-align: middle;\n",
              "    }\n",
              "\n",
              "    .dataframe tbody tr th {\n",
              "        vertical-align: top;\n",
              "    }\n",
              "\n",
              "    .dataframe thead th {\n",
              "        text-align: right;\n",
              "    }\n",
              "</style>\n",
              "<table border=\"1\" class=\"dataframe\">\n",
              "  <thead>\n",
              "    <tr style=\"text-align: right;\">\n",
              "      <th></th>\n",
              "      <th>customerID</th>\n",
              "      <th>gender</th>\n",
              "      <th>SeniorCitizen</th>\n",
              "      <th>Partner</th>\n",
              "      <th>Dependents</th>\n",
              "      <th>tenure</th>\n",
              "      <th>PhoneService</th>\n",
              "      <th>MultipleLines</th>\n",
              "      <th>InternetService</th>\n",
              "      <th>OnlineSecurity</th>\n",
              "      <th>...</th>\n",
              "      <th>DeviceProtection</th>\n",
              "      <th>TechSupport</th>\n",
              "      <th>StreamingTV</th>\n",
              "      <th>StreamingMovies</th>\n",
              "      <th>Contract</th>\n",
              "      <th>PaperlessBilling</th>\n",
              "      <th>PaymentMethod</th>\n",
              "      <th>MonthlyCharges</th>\n",
              "      <th>TotalCharges</th>\n",
              "      <th>Churn</th>\n",
              "    </tr>\n",
              "  </thead>\n",
              "  <tbody>\n",
              "    <tr>\n",
              "      <th>0</th>\n",
              "      <td>7590-VHVEG</td>\n",
              "      <td>Female</td>\n",
              "      <td>0</td>\n",
              "      <td>Yes</td>\n",
              "      <td>No</td>\n",
              "      <td>1</td>\n",
              "      <td>No</td>\n",
              "      <td>No phone service</td>\n",
              "      <td>DSL</td>\n",
              "      <td>No</td>\n",
              "      <td>...</td>\n",
              "      <td>No</td>\n",
              "      <td>No</td>\n",
              "      <td>No</td>\n",
              "      <td>No</td>\n",
              "      <td>Month-to-month</td>\n",
              "      <td>Yes</td>\n",
              "      <td>Electronic check</td>\n",
              "      <td>29.85</td>\n",
              "      <td>29.85</td>\n",
              "      <td>No</td>\n",
              "    </tr>\n",
              "    <tr>\n",
              "      <th>1</th>\n",
              "      <td>5575-GNVDE</td>\n",
              "      <td>Male</td>\n",
              "      <td>0</td>\n",
              "      <td>No</td>\n",
              "      <td>No</td>\n",
              "      <td>34</td>\n",
              "      <td>Yes</td>\n",
              "      <td>No</td>\n",
              "      <td>DSL</td>\n",
              "      <td>Yes</td>\n",
              "      <td>...</td>\n",
              "      <td>Yes</td>\n",
              "      <td>No</td>\n",
              "      <td>No</td>\n",
              "      <td>No</td>\n",
              "      <td>One year</td>\n",
              "      <td>No</td>\n",
              "      <td>Mailed check</td>\n",
              "      <td>56.95</td>\n",
              "      <td>1889.5</td>\n",
              "      <td>No</td>\n",
              "    </tr>\n",
              "    <tr>\n",
              "      <th>2</th>\n",
              "      <td>3668-QPYBK</td>\n",
              "      <td>Male</td>\n",
              "      <td>0</td>\n",
              "      <td>No</td>\n",
              "      <td>No</td>\n",
              "      <td>2</td>\n",
              "      <td>Yes</td>\n",
              "      <td>No</td>\n",
              "      <td>DSL</td>\n",
              "      <td>Yes</td>\n",
              "      <td>...</td>\n",
              "      <td>No</td>\n",
              "      <td>No</td>\n",
              "      <td>No</td>\n",
              "      <td>No</td>\n",
              "      <td>Month-to-month</td>\n",
              "      <td>Yes</td>\n",
              "      <td>Mailed check</td>\n",
              "      <td>53.85</td>\n",
              "      <td>108.15</td>\n",
              "      <td>Yes</td>\n",
              "    </tr>\n",
              "    <tr>\n",
              "      <th>3</th>\n",
              "      <td>7795-CFOCW</td>\n",
              "      <td>Male</td>\n",
              "      <td>0</td>\n",
              "      <td>No</td>\n",
              "      <td>No</td>\n",
              "      <td>45</td>\n",
              "      <td>No</td>\n",
              "      <td>No phone service</td>\n",
              "      <td>DSL</td>\n",
              "      <td>Yes</td>\n",
              "      <td>...</td>\n",
              "      <td>Yes</td>\n",
              "      <td>Yes</td>\n",
              "      <td>No</td>\n",
              "      <td>No</td>\n",
              "      <td>One year</td>\n",
              "      <td>No</td>\n",
              "      <td>Bank transfer (automatic)</td>\n",
              "      <td>42.30</td>\n",
              "      <td>1840.75</td>\n",
              "      <td>No</td>\n",
              "    </tr>\n",
              "    <tr>\n",
              "      <th>4</th>\n",
              "      <td>9237-HQITU</td>\n",
              "      <td>Female</td>\n",
              "      <td>0</td>\n",
              "      <td>No</td>\n",
              "      <td>No</td>\n",
              "      <td>2</td>\n",
              "      <td>Yes</td>\n",
              "      <td>No</td>\n",
              "      <td>Fiber optic</td>\n",
              "      <td>No</td>\n",
              "      <td>...</td>\n",
              "      <td>No</td>\n",
              "      <td>No</td>\n",
              "      <td>No</td>\n",
              "      <td>No</td>\n",
              "      <td>Month-to-month</td>\n",
              "      <td>Yes</td>\n",
              "      <td>Electronic check</td>\n",
              "      <td>70.70</td>\n",
              "      <td>151.65</td>\n",
              "      <td>Yes</td>\n",
              "    </tr>\n",
              "  </tbody>\n",
              "</table>\n",
              "<p>5 rows × 21 columns</p>\n",
              "</div>\n",
              "    <div class=\"colab-df-buttons\">\n",
              "\n",
              "  <div class=\"colab-df-container\">\n",
              "    <button class=\"colab-df-convert\" onclick=\"convertToInteractive('df-f74fe9d7-7a4d-45fb-8d02-1224745c7cff')\"\n",
              "            title=\"Convert this dataframe to an interactive table.\"\n",
              "            style=\"display:none;\">\n",
              "\n",
              "  <svg xmlns=\"http://www.w3.org/2000/svg\" height=\"24px\" viewBox=\"0 -960 960 960\">\n",
              "    <path d=\"M120-120v-720h720v720H120Zm60-500h600v-160H180v160Zm220 220h160v-160H400v160Zm0 220h160v-160H400v160ZM180-400h160v-160H180v160Zm440 0h160v-160H620v160ZM180-180h160v-160H180v160Zm440 0h160v-160H620v160Z\"/>\n",
              "  </svg>\n",
              "    </button>\n",
              "\n",
              "  <style>\n",
              "    .colab-df-container {\n",
              "      display:flex;\n",
              "      gap: 12px;\n",
              "    }\n",
              "\n",
              "    .colab-df-convert {\n",
              "      background-color: #E8F0FE;\n",
              "      border: none;\n",
              "      border-radius: 50%;\n",
              "      cursor: pointer;\n",
              "      display: none;\n",
              "      fill: #1967D2;\n",
              "      height: 32px;\n",
              "      padding: 0 0 0 0;\n",
              "      width: 32px;\n",
              "    }\n",
              "\n",
              "    .colab-df-convert:hover {\n",
              "      background-color: #E2EBFA;\n",
              "      box-shadow: 0px 1px 2px rgba(60, 64, 67, 0.3), 0px 1px 3px 1px rgba(60, 64, 67, 0.15);\n",
              "      fill: #174EA6;\n",
              "    }\n",
              "\n",
              "    .colab-df-buttons div {\n",
              "      margin-bottom: 4px;\n",
              "    }\n",
              "\n",
              "    [theme=dark] .colab-df-convert {\n",
              "      background-color: #3B4455;\n",
              "      fill: #D2E3FC;\n",
              "    }\n",
              "\n",
              "    [theme=dark] .colab-df-convert:hover {\n",
              "      background-color: #434B5C;\n",
              "      box-shadow: 0px 1px 3px 1px rgba(0, 0, 0, 0.15);\n",
              "      filter: drop-shadow(0px 1px 2px rgba(0, 0, 0, 0.3));\n",
              "      fill: #FFFFFF;\n",
              "    }\n",
              "  </style>\n",
              "\n",
              "    <script>\n",
              "      const buttonEl =\n",
              "        document.querySelector('#df-f74fe9d7-7a4d-45fb-8d02-1224745c7cff button.colab-df-convert');\n",
              "      buttonEl.style.display =\n",
              "        google.colab.kernel.accessAllowed ? 'block' : 'none';\n",
              "\n",
              "      async function convertToInteractive(key) {\n",
              "        const element = document.querySelector('#df-f74fe9d7-7a4d-45fb-8d02-1224745c7cff');\n",
              "        const dataTable =\n",
              "          await google.colab.kernel.invokeFunction('convertToInteractive',\n",
              "                                                    [key], {});\n",
              "        if (!dataTable) return;\n",
              "\n",
              "        const docLinkHtml = 'Like what you see? Visit the ' +\n",
              "          '<a target=\"_blank\" href=https://colab.research.google.com/notebooks/data_table.ipynb>data table notebook</a>'\n",
              "          + ' to learn more about interactive tables.';\n",
              "        element.innerHTML = '';\n",
              "        dataTable['output_type'] = 'display_data';\n",
              "        await google.colab.output.renderOutput(dataTable, element);\n",
              "        const docLink = document.createElement('div');\n",
              "        docLink.innerHTML = docLinkHtml;\n",
              "        element.appendChild(docLink);\n",
              "      }\n",
              "    </script>\n",
              "  </div>\n",
              "\n",
              "\n",
              "<div id=\"df-451e99f2-2140-415c-b693-007089d89dfd\">\n",
              "  <button class=\"colab-df-quickchart\" onclick=\"quickchart('df-451e99f2-2140-415c-b693-007089d89dfd')\"\n",
              "            title=\"Suggest charts\"\n",
              "            style=\"display:none;\">\n",
              "\n",
              "<svg xmlns=\"http://www.w3.org/2000/svg\" height=\"24px\"viewBox=\"0 0 24 24\"\n",
              "     width=\"24px\">\n",
              "    <g>\n",
              "        <path d=\"M19 3H5c-1.1 0-2 .9-2 2v14c0 1.1.9 2 2 2h14c1.1 0 2-.9 2-2V5c0-1.1-.9-2-2-2zM9 17H7v-7h2v7zm4 0h-2V7h2v10zm4 0h-2v-4h2v4z\"/>\n",
              "    </g>\n",
              "</svg>\n",
              "  </button>\n",
              "\n",
              "<style>\n",
              "  .colab-df-quickchart {\n",
              "      --bg-color: #E8F0FE;\n",
              "      --fill-color: #1967D2;\n",
              "      --hover-bg-color: #E2EBFA;\n",
              "      --hover-fill-color: #174EA6;\n",
              "      --disabled-fill-color: #AAA;\n",
              "      --disabled-bg-color: #DDD;\n",
              "  }\n",
              "\n",
              "  [theme=dark] .colab-df-quickchart {\n",
              "      --bg-color: #3B4455;\n",
              "      --fill-color: #D2E3FC;\n",
              "      --hover-bg-color: #434B5C;\n",
              "      --hover-fill-color: #FFFFFF;\n",
              "      --disabled-bg-color: #3B4455;\n",
              "      --disabled-fill-color: #666;\n",
              "  }\n",
              "\n",
              "  .colab-df-quickchart {\n",
              "    background-color: var(--bg-color);\n",
              "    border: none;\n",
              "    border-radius: 50%;\n",
              "    cursor: pointer;\n",
              "    display: none;\n",
              "    fill: var(--fill-color);\n",
              "    height: 32px;\n",
              "    padding: 0;\n",
              "    width: 32px;\n",
              "  }\n",
              "\n",
              "  .colab-df-quickchart:hover {\n",
              "    background-color: var(--hover-bg-color);\n",
              "    box-shadow: 0 1px 2px rgba(60, 64, 67, 0.3), 0 1px 3px 1px rgba(60, 64, 67, 0.15);\n",
              "    fill: var(--button-hover-fill-color);\n",
              "  }\n",
              "\n",
              "  .colab-df-quickchart-complete:disabled,\n",
              "  .colab-df-quickchart-complete:disabled:hover {\n",
              "    background-color: var(--disabled-bg-color);\n",
              "    fill: var(--disabled-fill-color);\n",
              "    box-shadow: none;\n",
              "  }\n",
              "\n",
              "  .colab-df-spinner {\n",
              "    border: 2px solid var(--fill-color);\n",
              "    border-color: transparent;\n",
              "    border-bottom-color: var(--fill-color);\n",
              "    animation:\n",
              "      spin 1s steps(1) infinite;\n",
              "  }\n",
              "\n",
              "  @keyframes spin {\n",
              "    0% {\n",
              "      border-color: transparent;\n",
              "      border-bottom-color: var(--fill-color);\n",
              "      border-left-color: var(--fill-color);\n",
              "    }\n",
              "    20% {\n",
              "      border-color: transparent;\n",
              "      border-left-color: var(--fill-color);\n",
              "      border-top-color: var(--fill-color);\n",
              "    }\n",
              "    30% {\n",
              "      border-color: transparent;\n",
              "      border-left-color: var(--fill-color);\n",
              "      border-top-color: var(--fill-color);\n",
              "      border-right-color: var(--fill-color);\n",
              "    }\n",
              "    40% {\n",
              "      border-color: transparent;\n",
              "      border-right-color: var(--fill-color);\n",
              "      border-top-color: var(--fill-color);\n",
              "    }\n",
              "    60% {\n",
              "      border-color: transparent;\n",
              "      border-right-color: var(--fill-color);\n",
              "    }\n",
              "    80% {\n",
              "      border-color: transparent;\n",
              "      border-right-color: var(--fill-color);\n",
              "      border-bottom-color: var(--fill-color);\n",
              "    }\n",
              "    90% {\n",
              "      border-color: transparent;\n",
              "      border-bottom-color: var(--fill-color);\n",
              "    }\n",
              "  }\n",
              "</style>\n",
              "\n",
              "  <script>\n",
              "    async function quickchart(key) {\n",
              "      const quickchartButtonEl =\n",
              "        document.querySelector('#' + key + ' button');\n",
              "      quickchartButtonEl.disabled = true;  // To prevent multiple clicks.\n",
              "      quickchartButtonEl.classList.add('colab-df-spinner');\n",
              "      try {\n",
              "        const charts = await google.colab.kernel.invokeFunction(\n",
              "            'suggestCharts', [key], {});\n",
              "      } catch (error) {\n",
              "        console.error('Error during call to suggestCharts:', error);\n",
              "      }\n",
              "      quickchartButtonEl.classList.remove('colab-df-spinner');\n",
              "      quickchartButtonEl.classList.add('colab-df-quickchart-complete');\n",
              "    }\n",
              "    (() => {\n",
              "      let quickchartButtonEl =\n",
              "        document.querySelector('#df-451e99f2-2140-415c-b693-007089d89dfd button');\n",
              "      quickchartButtonEl.style.display =\n",
              "        google.colab.kernel.accessAllowed ? 'block' : 'none';\n",
              "    })();\n",
              "  </script>\n",
              "</div>\n",
              "\n",
              "    </div>\n",
              "  </div>\n"
            ],
            "application/vnd.google.colaboratory.intrinsic+json": {
              "type": "dataframe",
              "variable_name": "df"
            }
          },
          "metadata": {},
          "execution_count": 38
        }
      ]
    },
    {
      "cell_type": "markdown",
      "source": [
        "# Data Preprocessing"
      ],
      "metadata": {
        "id": "fsHxTk-0-fJk"
      }
    },
    {
      "cell_type": "markdown",
      "source": [
        "## (SID)-Analysis"
      ],
      "metadata": {
        "id": "XISkzV8--i3T"
      }
    },
    {
      "cell_type": "markdown",
      "source": [
        "### Shape"
      ],
      "metadata": {
        "id": "4dPH4Zex-un4"
      }
    },
    {
      "cell_type": "code",
      "source": [
        "df.shape"
      ],
      "metadata": {
        "colab": {
          "base_uri": "https://localhost:8080/"
        },
        "id": "7247qjLn-d3Q",
        "outputId": "76882b43-1cf5-4276-cd2c-056479991f2b"
      },
      "execution_count": 39,
      "outputs": [
        {
          "output_type": "execute_result",
          "data": {
            "text/plain": [
              "(7043, 21)"
            ]
          },
          "metadata": {},
          "execution_count": 39
        }
      ]
    },
    {
      "cell_type": "markdown",
      "source": [
        "### Info"
      ],
      "metadata": {
        "id": "TQZ3ge25-0KE"
      }
    },
    {
      "cell_type": "code",
      "source": [
        "df.info()"
      ],
      "metadata": {
        "colab": {
          "base_uri": "https://localhost:8080/"
        },
        "id": "aXRCIvJm-ySl",
        "outputId": "04e03bdc-1e39-4505-9b36-bed9d9b9e7d9"
      },
      "execution_count": 40,
      "outputs": [
        {
          "output_type": "stream",
          "name": "stdout",
          "text": [
            "<class 'pandas.core.frame.DataFrame'>\n",
            "RangeIndex: 7043 entries, 0 to 7042\n",
            "Data columns (total 21 columns):\n",
            " #   Column            Non-Null Count  Dtype  \n",
            "---  ------            --------------  -----  \n",
            " 0   customerID        7043 non-null   object \n",
            " 1   gender            7043 non-null   object \n",
            " 2   SeniorCitizen     7043 non-null   int64  \n",
            " 3   Partner           7043 non-null   object \n",
            " 4   Dependents        7043 non-null   object \n",
            " 5   tenure            7043 non-null   int64  \n",
            " 6   PhoneService      7043 non-null   object \n",
            " 7   MultipleLines     7043 non-null   object \n",
            " 8   InternetService   7043 non-null   object \n",
            " 9   OnlineSecurity    7043 non-null   object \n",
            " 10  OnlineBackup      7043 non-null   object \n",
            " 11  DeviceProtection  7043 non-null   object \n",
            " 12  TechSupport       7043 non-null   object \n",
            " 13  StreamingTV       7043 non-null   object \n",
            " 14  StreamingMovies   7043 non-null   object \n",
            " 15  Contract          7043 non-null   object \n",
            " 16  PaperlessBilling  7043 non-null   object \n",
            " 17  PaymentMethod     7043 non-null   object \n",
            " 18  MonthlyCharges    7043 non-null   float64\n",
            " 19  TotalCharges      7043 non-null   object \n",
            " 20  Churn             7043 non-null   object \n",
            "dtypes: float64(1), int64(2), object(18)\n",
            "memory usage: 1.1+ MB\n"
          ]
        }
      ]
    },
    {
      "cell_type": "markdown",
      "source": [
        "### De-Stats"
      ],
      "metadata": {
        "id": "Vx9G5NMB-_XO"
      }
    },
    {
      "cell_type": "code",
      "source": [
        "df.describe()"
      ],
      "metadata": {
        "colab": {
          "base_uri": "https://localhost:8080/",
          "height": 300
        },
        "id": "KLFti4wc-5LN",
        "outputId": "e286ede2-5e4f-434e-9376-3ae8fecd3689"
      },
      "execution_count": 41,
      "outputs": [
        {
          "output_type": "execute_result",
          "data": {
            "text/plain": [
              "       SeniorCitizen       tenure  MonthlyCharges\n",
              "count    7043.000000  7043.000000     7043.000000\n",
              "mean        0.162147    32.371149       64.761692\n",
              "std         0.368612    24.559481       30.090047\n",
              "min         0.000000     0.000000       18.250000\n",
              "25%         0.000000     9.000000       35.500000\n",
              "50%         0.000000    29.000000       70.350000\n",
              "75%         0.000000    55.000000       89.850000\n",
              "max         1.000000    72.000000      118.750000"
            ],
            "text/html": [
              "\n",
              "  <div id=\"df-b958beae-8d7b-4b40-a398-4be357dc1586\" class=\"colab-df-container\">\n",
              "    <div>\n",
              "<style scoped>\n",
              "    .dataframe tbody tr th:only-of-type {\n",
              "        vertical-align: middle;\n",
              "    }\n",
              "\n",
              "    .dataframe tbody tr th {\n",
              "        vertical-align: top;\n",
              "    }\n",
              "\n",
              "    .dataframe thead th {\n",
              "        text-align: right;\n",
              "    }\n",
              "</style>\n",
              "<table border=\"1\" class=\"dataframe\">\n",
              "  <thead>\n",
              "    <tr style=\"text-align: right;\">\n",
              "      <th></th>\n",
              "      <th>SeniorCitizen</th>\n",
              "      <th>tenure</th>\n",
              "      <th>MonthlyCharges</th>\n",
              "    </tr>\n",
              "  </thead>\n",
              "  <tbody>\n",
              "    <tr>\n",
              "      <th>count</th>\n",
              "      <td>7043.000000</td>\n",
              "      <td>7043.000000</td>\n",
              "      <td>7043.000000</td>\n",
              "    </tr>\n",
              "    <tr>\n",
              "      <th>mean</th>\n",
              "      <td>0.162147</td>\n",
              "      <td>32.371149</td>\n",
              "      <td>64.761692</td>\n",
              "    </tr>\n",
              "    <tr>\n",
              "      <th>std</th>\n",
              "      <td>0.368612</td>\n",
              "      <td>24.559481</td>\n",
              "      <td>30.090047</td>\n",
              "    </tr>\n",
              "    <tr>\n",
              "      <th>min</th>\n",
              "      <td>0.000000</td>\n",
              "      <td>0.000000</td>\n",
              "      <td>18.250000</td>\n",
              "    </tr>\n",
              "    <tr>\n",
              "      <th>25%</th>\n",
              "      <td>0.000000</td>\n",
              "      <td>9.000000</td>\n",
              "      <td>35.500000</td>\n",
              "    </tr>\n",
              "    <tr>\n",
              "      <th>50%</th>\n",
              "      <td>0.000000</td>\n",
              "      <td>29.000000</td>\n",
              "      <td>70.350000</td>\n",
              "    </tr>\n",
              "    <tr>\n",
              "      <th>75%</th>\n",
              "      <td>0.000000</td>\n",
              "      <td>55.000000</td>\n",
              "      <td>89.850000</td>\n",
              "    </tr>\n",
              "    <tr>\n",
              "      <th>max</th>\n",
              "      <td>1.000000</td>\n",
              "      <td>72.000000</td>\n",
              "      <td>118.750000</td>\n",
              "    </tr>\n",
              "  </tbody>\n",
              "</table>\n",
              "</div>\n",
              "    <div class=\"colab-df-buttons\">\n",
              "\n",
              "  <div class=\"colab-df-container\">\n",
              "    <button class=\"colab-df-convert\" onclick=\"convertToInteractive('df-b958beae-8d7b-4b40-a398-4be357dc1586')\"\n",
              "            title=\"Convert this dataframe to an interactive table.\"\n",
              "            style=\"display:none;\">\n",
              "\n",
              "  <svg xmlns=\"http://www.w3.org/2000/svg\" height=\"24px\" viewBox=\"0 -960 960 960\">\n",
              "    <path d=\"M120-120v-720h720v720H120Zm60-500h600v-160H180v160Zm220 220h160v-160H400v160Zm0 220h160v-160H400v160ZM180-400h160v-160H180v160Zm440 0h160v-160H620v160ZM180-180h160v-160H180v160Zm440 0h160v-160H620v160Z\"/>\n",
              "  </svg>\n",
              "    </button>\n",
              "\n",
              "  <style>\n",
              "    .colab-df-container {\n",
              "      display:flex;\n",
              "      gap: 12px;\n",
              "    }\n",
              "\n",
              "    .colab-df-convert {\n",
              "      background-color: #E8F0FE;\n",
              "      border: none;\n",
              "      border-radius: 50%;\n",
              "      cursor: pointer;\n",
              "      display: none;\n",
              "      fill: #1967D2;\n",
              "      height: 32px;\n",
              "      padding: 0 0 0 0;\n",
              "      width: 32px;\n",
              "    }\n",
              "\n",
              "    .colab-df-convert:hover {\n",
              "      background-color: #E2EBFA;\n",
              "      box-shadow: 0px 1px 2px rgba(60, 64, 67, 0.3), 0px 1px 3px 1px rgba(60, 64, 67, 0.15);\n",
              "      fill: #174EA6;\n",
              "    }\n",
              "\n",
              "    .colab-df-buttons div {\n",
              "      margin-bottom: 4px;\n",
              "    }\n",
              "\n",
              "    [theme=dark] .colab-df-convert {\n",
              "      background-color: #3B4455;\n",
              "      fill: #D2E3FC;\n",
              "    }\n",
              "\n",
              "    [theme=dark] .colab-df-convert:hover {\n",
              "      background-color: #434B5C;\n",
              "      box-shadow: 0px 1px 3px 1px rgba(0, 0, 0, 0.15);\n",
              "      filter: drop-shadow(0px 1px 2px rgba(0, 0, 0, 0.3));\n",
              "      fill: #FFFFFF;\n",
              "    }\n",
              "  </style>\n",
              "\n",
              "    <script>\n",
              "      const buttonEl =\n",
              "        document.querySelector('#df-b958beae-8d7b-4b40-a398-4be357dc1586 button.colab-df-convert');\n",
              "      buttonEl.style.display =\n",
              "        google.colab.kernel.accessAllowed ? 'block' : 'none';\n",
              "\n",
              "      async function convertToInteractive(key) {\n",
              "        const element = document.querySelector('#df-b958beae-8d7b-4b40-a398-4be357dc1586');\n",
              "        const dataTable =\n",
              "          await google.colab.kernel.invokeFunction('convertToInteractive',\n",
              "                                                    [key], {});\n",
              "        if (!dataTable) return;\n",
              "\n",
              "        const docLinkHtml = 'Like what you see? Visit the ' +\n",
              "          '<a target=\"_blank\" href=https://colab.research.google.com/notebooks/data_table.ipynb>data table notebook</a>'\n",
              "          + ' to learn more about interactive tables.';\n",
              "        element.innerHTML = '';\n",
              "        dataTable['output_type'] = 'display_data';\n",
              "        await google.colab.output.renderOutput(dataTable, element);\n",
              "        const docLink = document.createElement('div');\n",
              "        docLink.innerHTML = docLinkHtml;\n",
              "        element.appendChild(docLink);\n",
              "      }\n",
              "    </script>\n",
              "  </div>\n",
              "\n",
              "\n",
              "<div id=\"df-5c8a3aa3-94cc-48fe-a2f5-81dbfe2d7335\">\n",
              "  <button class=\"colab-df-quickchart\" onclick=\"quickchart('df-5c8a3aa3-94cc-48fe-a2f5-81dbfe2d7335')\"\n",
              "            title=\"Suggest charts\"\n",
              "            style=\"display:none;\">\n",
              "\n",
              "<svg xmlns=\"http://www.w3.org/2000/svg\" height=\"24px\"viewBox=\"0 0 24 24\"\n",
              "     width=\"24px\">\n",
              "    <g>\n",
              "        <path d=\"M19 3H5c-1.1 0-2 .9-2 2v14c0 1.1.9 2 2 2h14c1.1 0 2-.9 2-2V5c0-1.1-.9-2-2-2zM9 17H7v-7h2v7zm4 0h-2V7h2v10zm4 0h-2v-4h2v4z\"/>\n",
              "    </g>\n",
              "</svg>\n",
              "  </button>\n",
              "\n",
              "<style>\n",
              "  .colab-df-quickchart {\n",
              "      --bg-color: #E8F0FE;\n",
              "      --fill-color: #1967D2;\n",
              "      --hover-bg-color: #E2EBFA;\n",
              "      --hover-fill-color: #174EA6;\n",
              "      --disabled-fill-color: #AAA;\n",
              "      --disabled-bg-color: #DDD;\n",
              "  }\n",
              "\n",
              "  [theme=dark] .colab-df-quickchart {\n",
              "      --bg-color: #3B4455;\n",
              "      --fill-color: #D2E3FC;\n",
              "      --hover-bg-color: #434B5C;\n",
              "      --hover-fill-color: #FFFFFF;\n",
              "      --disabled-bg-color: #3B4455;\n",
              "      --disabled-fill-color: #666;\n",
              "  }\n",
              "\n",
              "  .colab-df-quickchart {\n",
              "    background-color: var(--bg-color);\n",
              "    border: none;\n",
              "    border-radius: 50%;\n",
              "    cursor: pointer;\n",
              "    display: none;\n",
              "    fill: var(--fill-color);\n",
              "    height: 32px;\n",
              "    padding: 0;\n",
              "    width: 32px;\n",
              "  }\n",
              "\n",
              "  .colab-df-quickchart:hover {\n",
              "    background-color: var(--hover-bg-color);\n",
              "    box-shadow: 0 1px 2px rgba(60, 64, 67, 0.3), 0 1px 3px 1px rgba(60, 64, 67, 0.15);\n",
              "    fill: var(--button-hover-fill-color);\n",
              "  }\n",
              "\n",
              "  .colab-df-quickchart-complete:disabled,\n",
              "  .colab-df-quickchart-complete:disabled:hover {\n",
              "    background-color: var(--disabled-bg-color);\n",
              "    fill: var(--disabled-fill-color);\n",
              "    box-shadow: none;\n",
              "  }\n",
              "\n",
              "  .colab-df-spinner {\n",
              "    border: 2px solid var(--fill-color);\n",
              "    border-color: transparent;\n",
              "    border-bottom-color: var(--fill-color);\n",
              "    animation:\n",
              "      spin 1s steps(1) infinite;\n",
              "  }\n",
              "\n",
              "  @keyframes spin {\n",
              "    0% {\n",
              "      border-color: transparent;\n",
              "      border-bottom-color: var(--fill-color);\n",
              "      border-left-color: var(--fill-color);\n",
              "    }\n",
              "    20% {\n",
              "      border-color: transparent;\n",
              "      border-left-color: var(--fill-color);\n",
              "      border-top-color: var(--fill-color);\n",
              "    }\n",
              "    30% {\n",
              "      border-color: transparent;\n",
              "      border-left-color: var(--fill-color);\n",
              "      border-top-color: var(--fill-color);\n",
              "      border-right-color: var(--fill-color);\n",
              "    }\n",
              "    40% {\n",
              "      border-color: transparent;\n",
              "      border-right-color: var(--fill-color);\n",
              "      border-top-color: var(--fill-color);\n",
              "    }\n",
              "    60% {\n",
              "      border-color: transparent;\n",
              "      border-right-color: var(--fill-color);\n",
              "    }\n",
              "    80% {\n",
              "      border-color: transparent;\n",
              "      border-right-color: var(--fill-color);\n",
              "      border-bottom-color: var(--fill-color);\n",
              "    }\n",
              "    90% {\n",
              "      border-color: transparent;\n",
              "      border-bottom-color: var(--fill-color);\n",
              "    }\n",
              "  }\n",
              "</style>\n",
              "\n",
              "  <script>\n",
              "    async function quickchart(key) {\n",
              "      const quickchartButtonEl =\n",
              "        document.querySelector('#' + key + ' button');\n",
              "      quickchartButtonEl.disabled = true;  // To prevent multiple clicks.\n",
              "      quickchartButtonEl.classList.add('colab-df-spinner');\n",
              "      try {\n",
              "        const charts = await google.colab.kernel.invokeFunction(\n",
              "            'suggestCharts', [key], {});\n",
              "      } catch (error) {\n",
              "        console.error('Error during call to suggestCharts:', error);\n",
              "      }\n",
              "      quickchartButtonEl.classList.remove('colab-df-spinner');\n",
              "      quickchartButtonEl.classList.add('colab-df-quickchart-complete');\n",
              "    }\n",
              "    (() => {\n",
              "      let quickchartButtonEl =\n",
              "        document.querySelector('#df-5c8a3aa3-94cc-48fe-a2f5-81dbfe2d7335 button');\n",
              "      quickchartButtonEl.style.display =\n",
              "        google.colab.kernel.accessAllowed ? 'block' : 'none';\n",
              "    })();\n",
              "  </script>\n",
              "</div>\n",
              "\n",
              "    </div>\n",
              "  </div>\n"
            ],
            "application/vnd.google.colaboratory.intrinsic+json": {
              "type": "dataframe",
              "summary": "{\n  \"name\": \"df\",\n  \"rows\": 8,\n  \"fields\": [\n    {\n      \"column\": \"SeniorCitizen\",\n      \"properties\": {\n        \"dtype\": \"number\",\n        \"std\": 2489.9992387084,\n        \"min\": 0.0,\n        \"max\": 7043.0,\n        \"num_unique_values\": 5,\n        \"samples\": [\n          0.1621468124378816,\n          1.0,\n          0.3686116056100131\n        ],\n        \"semantic_type\": \"\",\n        \"description\": \"\"\n      }\n    },\n    {\n      \"column\": \"tenure\",\n      \"properties\": {\n        \"dtype\": \"number\",\n        \"std\": 2478.9752758409018,\n        \"min\": 0.0,\n        \"max\": 7043.0,\n        \"num_unique_values\": 8,\n        \"samples\": [\n          32.37114865824223,\n          29.0,\n          7043.0\n        ],\n        \"semantic_type\": \"\",\n        \"description\": \"\"\n      }\n    },\n    {\n      \"column\": \"MonthlyCharges\",\n      \"properties\": {\n        \"dtype\": \"number\",\n        \"std\": 2468.7047672837775,\n        \"min\": 18.25,\n        \"max\": 7043.0,\n        \"num_unique_values\": 8,\n        \"samples\": [\n          64.76169246059918,\n          70.35,\n          7043.0\n        ],\n        \"semantic_type\": \"\",\n        \"description\": \"\"\n      }\n    }\n  ]\n}"
            }
          },
          "metadata": {},
          "execution_count": 41
        }
      ]
    },
    {
      "cell_type": "markdown",
      "source": [
        "## Numerical VS Categorical"
      ],
      "metadata": {
        "id": "A_8H_w-nAAjI"
      }
    },
    {
      "cell_type": "code",
      "source": [
        "# Check data types of each column\n",
        "print(\"Data Types:\")\n",
        "print(df.dtypes)\n",
        "print()"
      ],
      "metadata": {
        "colab": {
          "base_uri": "https://localhost:8080/"
        },
        "id": "jLgwDsZJ_GFO",
        "outputId": "270a05e2-c81c-4aed-d6f3-3bbc9e3194a8"
      },
      "execution_count": 42,
      "outputs": [
        {
          "output_type": "stream",
          "name": "stdout",
          "text": [
            "Data Types:\n",
            "customerID           object\n",
            "gender               object\n",
            "SeniorCitizen         int64\n",
            "Partner              object\n",
            "Dependents           object\n",
            "tenure                int64\n",
            "PhoneService         object\n",
            "MultipleLines        object\n",
            "InternetService      object\n",
            "OnlineSecurity       object\n",
            "OnlineBackup         object\n",
            "DeviceProtection     object\n",
            "TechSupport          object\n",
            "StreamingTV          object\n",
            "StreamingMovies      object\n",
            "Contract             object\n",
            "PaperlessBilling     object\n",
            "PaymentMethod        object\n",
            "MonthlyCharges      float64\n",
            "TotalCharges         object\n",
            "Churn                object\n",
            "dtype: object\n",
            "\n"
          ]
        }
      ]
    },
    {
      "cell_type": "code",
      "source": [
        "# Separate numerical and categorical variables\n",
        "numerical_vars = df.select_dtypes(include=['int64', 'float64']).columns\n",
        "categorical_vars = df.select_dtypes(include=['object']).columns\n",
        "\n",
        "# Display numerical and categorical variables\n",
        "print(\"Numerical Variables:\")\n",
        "print(numerical_vars)\n",
        "print()\n",
        "\n",
        "print(\"Categorical Variables:\")\n",
        "print(categorical_vars)"
      ],
      "metadata": {
        "colab": {
          "base_uri": "https://localhost:8080/"
        },
        "id": "gxA2bRIOALkH",
        "outputId": "9221a69a-88c1-41cd-8d0e-7bb0549c1e8a"
      },
      "execution_count": 43,
      "outputs": [
        {
          "output_type": "stream",
          "name": "stdout",
          "text": [
            "Numerical Variables:\n",
            "Index(['SeniorCitizen', 'tenure', 'MonthlyCharges'], dtype='object')\n",
            "\n",
            "Categorical Variables:\n",
            "Index(['customerID', 'gender', 'Partner', 'Dependents', 'PhoneService',\n",
            "       'MultipleLines', 'InternetService', 'OnlineSecurity', 'OnlineBackup',\n",
            "       'DeviceProtection', 'TechSupport', 'StreamingTV', 'StreamingMovies',\n",
            "       'Contract', 'PaperlessBilling', 'PaymentMethod', 'TotalCharges',\n",
            "       'Churn'],\n",
            "      dtype='object')\n"
          ]
        }
      ]
    },
    {
      "cell_type": "markdown",
      "source": [
        "## Missing Values"
      ],
      "metadata": {
        "id": "rX1kivBeAdvP"
      }
    },
    {
      "cell_type": "code",
      "source": [
        "df.isnull().sum()\n",
        "\n",
        "\n",
        "# Calculate the percentage of missing values in each column\n",
        "missing_percentage = (df.isnull().mean()) * 100\n",
        "\n",
        "# Display the result\n",
        "print(\"Percentage of missing values in each column:\")\n",
        "for column, percentage in missing_percentage.items():\n",
        "    print(f\"{column}: {round(percentage, 2)}%\")\n"
      ],
      "metadata": {
        "colab": {
          "base_uri": "https://localhost:8080/"
        },
        "id": "z_ydyYkBAgLo",
        "outputId": "99e15d8c-4b27-4b44-8720-b61283223ffd"
      },
      "execution_count": 44,
      "outputs": [
        {
          "output_type": "stream",
          "name": "stdout",
          "text": [
            "Percentage of missing values in each column:\n",
            "customerID: 0.0%\n",
            "gender: 0.0%\n",
            "SeniorCitizen: 0.0%\n",
            "Partner: 0.0%\n",
            "Dependents: 0.0%\n",
            "tenure: 0.0%\n",
            "PhoneService: 0.0%\n",
            "MultipleLines: 0.0%\n",
            "InternetService: 0.0%\n",
            "OnlineSecurity: 0.0%\n",
            "OnlineBackup: 0.0%\n",
            "DeviceProtection: 0.0%\n",
            "TechSupport: 0.0%\n",
            "StreamingTV: 0.0%\n",
            "StreamingMovies: 0.0%\n",
            "Contract: 0.0%\n",
            "PaperlessBilling: 0.0%\n",
            "PaymentMethod: 0.0%\n",
            "MonthlyCharges: 0.0%\n",
            "TotalCharges: 0.0%\n",
            "Churn: 0.0%\n"
          ]
        }
      ]
    },
    {
      "cell_type": "markdown",
      "source": [
        "## TASK-1:"
      ],
      "metadata": {
        "id": "6tB4QPRHBhuH"
      }
    },
    {
      "cell_type": "markdown",
      "source": [
        "Perform initial data preparation by converting the 'TotalCharges' column to numeric values and filling missing values with 0."
      ],
      "metadata": {
        "id": "2mjUdetYB2yr"
      }
    },
    {
      "cell_type": "code",
      "source": [
        "# Convert 'TotalCharges' to numeric and fill missing values with 0\n",
        "df['TotalCharges'] = pd.to_numeric(df['TotalCharges'], errors='coerce').fillna(0)\n"
      ],
      "metadata": {
        "id": "5CIf0DHRBgv_"
      },
      "execution_count": 45,
      "outputs": []
    },
    {
      "cell_type": "code",
      "source": [
        "# Verify conversion and missing value handling\n",
        "print(df['TotalCharges'].head())\n",
        "print(df['TotalCharges'].isnull().sum())"
      ],
      "metadata": {
        "colab": {
          "base_uri": "https://localhost:8080/"
        },
        "id": "bMQlQCC6Ai3A",
        "outputId": "365569cf-387e-4d6e-e519-4bf40bf12d1f"
      },
      "execution_count": 46,
      "outputs": [
        {
          "output_type": "stream",
          "name": "stdout",
          "text": [
            "0      29.85\n",
            "1    1889.50\n",
            "2     108.15\n",
            "3    1840.75\n",
            "4     151.65\n",
            "Name: TotalCharges, dtype: float64\n",
            "0\n"
          ]
        }
      ]
    },
    {
      "cell_type": "code",
      "source": [
        "# Display numerical variables\n",
        "numerical_vars = df.select_dtypes(include=['int64', 'float64']).columns\n",
        "print(\"Numerical Variables:\")\n",
        "print(numerical_vars)\n",
        "print()"
      ],
      "metadata": {
        "colab": {
          "base_uri": "https://localhost:8080/"
        },
        "id": "DaIsMHknD6t2",
        "outputId": "af671106-68db-440a-a3fb-159b8f70a5fd"
      },
      "execution_count": 47,
      "outputs": [
        {
          "output_type": "stream",
          "name": "stdout",
          "text": [
            "Numerical Variables:\n",
            "Index(['SeniorCitizen', 'tenure', 'MonthlyCharges', 'TotalCharges'], dtype='object')\n",
            "\n"
          ]
        }
      ]
    },
    {
      "cell_type": "markdown",
      "source": [
        "## TASK-2:"
      ],
      "metadata": {
        "id": "xx3Zq2PgDkRf"
      }
    },
    {
      "cell_type": "markdown",
      "source": [
        "Convert the 'Churn' column to binary values, where 'No' is mapped to 0 and 'Yes' is mapped to 1."
      ],
      "metadata": {
        "id": "pEDwIlB7DouI"
      }
    },
    {
      "cell_type": "code",
      "source": [
        "# Convert 'Churn' to binary values\n",
        "df['Churn'] = df['Churn'].map({'No': 0, 'Yes': 1})\n"
      ],
      "metadata": {
        "id": "HRPeXaHwDRll"
      },
      "execution_count": 48,
      "outputs": []
    },
    {
      "cell_type": "code",
      "source": [
        "#Verify Conversion\n",
        "print(df['Churn'].head())"
      ],
      "metadata": {
        "colab": {
          "base_uri": "https://localhost:8080/"
        },
        "id": "Z5R8zhKaEx4C",
        "outputId": "8ce477bf-7ce7-4bdb-ca14-46cb32033a6c"
      },
      "execution_count": 49,
      "outputs": [
        {
          "output_type": "stream",
          "name": "stdout",
          "text": [
            "0    0\n",
            "1    0\n",
            "2    1\n",
            "3    0\n",
            "4    1\n",
            "Name: Churn, dtype: int64\n"
          ]
        }
      ]
    },
    {
      "cell_type": "code",
      "source": [
        "# Display numerical variables\n",
        "numerical_vars = df.select_dtypes(include=['int64', 'float64']).columns\n",
        "print(\"Numerical Variables:\")\n",
        "print(numerical_vars)\n",
        "print()"
      ],
      "metadata": {
        "colab": {
          "base_uri": "https://localhost:8080/"
        },
        "id": "f_tRUbzfE9Nr",
        "outputId": "a5aba875-8716-4264-dc1b-c8d4a43add9f"
      },
      "execution_count": 50,
      "outputs": [
        {
          "output_type": "stream",
          "name": "stdout",
          "text": [
            "Numerical Variables:\n",
            "Index(['SeniorCitizen', 'tenure', 'MonthlyCharges', 'TotalCharges', 'Churn'], dtype='object')\n",
            "\n"
          ]
        }
      ]
    },
    {
      "cell_type": "markdown",
      "source": [
        "## TASK-3:"
      ],
      "metadata": {
        "id": "G05cznGgFMgW"
      }
    },
    {
      "cell_type": "markdown",
      "source": [
        "Split the data into an 80-20 train-test split with a random state of \"1\""
      ],
      "metadata": {
        "id": "WmSll-4dFXMN"
      }
    },
    {
      "cell_type": "code",
      "source": [
        "#Split data\n",
        "# x = Independent & y = dependent variables\n",
        "\n",
        "X = df.drop('Churn', axis=1)\n",
        "y = df['Churn']\n",
        "X_train, X_test, y_train, y_test = train_test_split(X, y, test_size=0.2, random_state=1)"
      ],
      "metadata": {
        "id": "3C841-4QFP-1"
      },
      "execution_count": 51,
      "outputs": []
    },
    {
      "cell_type": "markdown",
      "source": [
        "## TASK-4:"
      ],
      "metadata": {
        "id": "Ij1nYH-XGzxw"
      }
    },
    {
      "cell_type": "markdown",
      "source": [
        "Select featuees based on Instructions"
      ],
      "metadata": {
        "id": "fFjJHoquHO2Y"
      }
    },
    {
      "cell_type": "code",
      "source": [
        "\n",
        "categorical = ['gender', 'SeniorCitizen', 'Partner', 'Dependents',\n",
        "               'PhoneService', 'MultipleLines', 'InternetService',\n",
        "               'OnlineSecurity', 'OnlineBackup', 'DeviceProtection',\n",
        "               'TechSupport', 'StreamingTV', 'StreamingMovies','Contract',\n",
        "               'PaperlessBilling', 'PaymentMethod']\n",
        "\n",
        "numerical = ['tenure', 'MonthlyCharges', 'TotalCharges']"
      ],
      "metadata": {
        "id": "1PC6HrD-G2Fy"
      },
      "execution_count": 52,
      "outputs": []
    },
    {
      "cell_type": "markdown",
      "source": [
        "# Feature Engineering"
      ],
      "metadata": {
        "id": "auOIeg_9IMmE"
      }
    },
    {
      "cell_type": "markdown",
      "source": [
        "## TASK-1:"
      ],
      "metadata": {
        "id": "CnlNGSIuIg9d"
      }
    },
    {
      "cell_type": "markdown",
      "source": [
        "The numerical features should be scaled using StandardScaler, convert the output back to a dataframe and put back the column names."
      ],
      "metadata": {
        "id": "5ElxrFB1Im6k"
      }
    },
    {
      "cell_type": "code",
      "source": [
        "# Select numerical features\n",
        "numerical = ['tenure', 'MonthlyCharges', 'TotalCharges']\n",
        "\n",
        "# Scale numerical features using StandardScaler\n",
        "scaler = StandardScaler()\n",
        "\n",
        "# Fit the scaler on the training data and transform both train and test data\n",
        "X_train_num_scaled = pd.DataFrame(scaler.fit_transform(X_train[numerical]), columns=numerical)\n",
        "X_test_num_scaled = pd.DataFrame(scaler.transform(X_test[numerical]), columns=numerical)\n",
        "\n",
        "# Convert the scaled arrays back to dataframes and restore the column names\n",
        "X_train_num_scaled_df = pd.DataFrame(X_train_num_scaled, columns=numerical)\n",
        "X_test_num_scaled_df = pd.DataFrame(X_test_num_scaled, columns=numerical)\n",
        "\n",
        "# Display the first few rows of the scaled dataframes\n",
        "print(\"Scaled Training Data:\")\n",
        "print(X_train_num_scaled_df.head())\n",
        "print(\"\\nScaled Test Data:\")\n",
        "print(X_test_num_scaled_df.head())\n"
      ],
      "metadata": {
        "colab": {
          "base_uri": "https://localhost:8080/"
        },
        "id": "N95lGlwvKfiB",
        "outputId": "2fbd17b0-101d-48bd-ad6b-9a9b3aeaf016"
      },
      "execution_count": 53,
      "outputs": [
        {
          "output_type": "stream",
          "name": "stdout",
          "text": [
            "Scaled Training Data:\n",
            "     tenure  MonthlyCharges  TotalCharges\n",
            "0 -0.825884       -1.497530     -0.890947\n",
            "1  0.395961        0.302996      0.389693\n",
            "2  1.577078        0.012320      1.060945\n",
            "3  1.577078        0.686687      1.775397\n",
            "4 -0.092777        0.186726     -0.102671\n",
            "\n",
            "Scaled Test Data:\n",
            "     tenure  MonthlyCharges  TotalCharges\n",
            "0  0.355233        0.500655      0.460383\n",
            "1  1.373437        1.249767      1.850854\n",
            "2 -0.825884       -0.657063     -0.773570\n",
            "3 -1.110981       -0.471031     -0.894653\n",
            "4 -0.907340        0.037235     -0.713691\n"
          ]
        }
      ]
    },
    {
      "cell_type": "markdown",
      "source": [
        "## TASK-2:"
      ],
      "metadata": {
        "id": "-jhbAB_kNFk9"
      }
    },
    {
      "cell_type": "markdown",
      "source": [
        "The categorical features are one-hot encoded using OneHotEncoder(set sparse_output to false), convert the output back to a dataframe and put back the column names."
      ],
      "metadata": {
        "id": "rDL5UksTNJbU"
      }
    },
    {
      "cell_type": "code",
      "source": [
        "# One-hot encode categorical features using OneHotEncoder with sparse_output=False\n",
        "encoder = OneHotEncoder(sparse_output=False, drop='first')\n",
        "\n",
        "# Fit the encoder on the training data and transform both train and test data\n",
        "X_train_cat_encoded = encoder.fit_transform(X_train[categorical])\n",
        "X_test_cat_encoded = encoder.transform(X_test[categorical])\n",
        "\n",
        "# Convert the encoded arrays back to dataframes and restore the column names\n",
        "X_train_cat_encoded_df = pd.DataFrame(X_train_cat_encoded, columns=encoder.get_feature_names_out(categorical))\n",
        "X_test_cat_encoded_df = pd.DataFrame(X_test_cat_encoded, columns=encoder.get_feature_names_out(categorical))\n",
        "\n",
        "\n",
        "# Display the first few rows of the processed dataframes\n",
        "print(\"Processed Training Data:\")\n",
        "print(X_train_cat_encoded_df.head())\n",
        "print(\"\\nProcessed Test Data:\")\n",
        "print(X_test_cat_encoded_df.head())"
      ],
      "metadata": {
        "colab": {
          "base_uri": "https://localhost:8080/"
        },
        "id": "1VqdOaVUNIwk",
        "outputId": "f618bf79-082c-4b7a-b0e8-cfd91503a54b"
      },
      "execution_count": 54,
      "outputs": [
        {
          "output_type": "stream",
          "name": "stdout",
          "text": [
            "Processed Training Data:\n",
            "   gender_Male  SeniorCitizen_1  Partner_Yes  Dependents_Yes  \\\n",
            "0          1.0              0.0          1.0             1.0   \n",
            "1          0.0              0.0          0.0             0.0   \n",
            "2          1.0              0.0          1.0             0.0   \n",
            "3          1.0              0.0          1.0             1.0   \n",
            "4          1.0              0.0          0.0             0.0   \n",
            "\n",
            "   PhoneService_Yes  MultipleLines_No phone service  MultipleLines_Yes  \\\n",
            "0               1.0                             0.0                0.0   \n",
            "1               1.0                             0.0                0.0   \n",
            "2               1.0                             0.0                1.0   \n",
            "3               1.0                             0.0                1.0   \n",
            "4               1.0                             0.0                0.0   \n",
            "\n",
            "   InternetService_Fiber optic  InternetService_No  \\\n",
            "0                          0.0                 1.0   \n",
            "1                          0.0                 0.0   \n",
            "2                          0.0                 0.0   \n",
            "3                          0.0                 0.0   \n",
            "4                          0.0                 0.0   \n",
            "\n",
            "   OnlineSecurity_No internet service  ...  StreamingTV_No internet service  \\\n",
            "0                                 1.0  ...                              1.0   \n",
            "1                                 0.0  ...                              0.0   \n",
            "2                                 0.0  ...                              0.0   \n",
            "3                                 0.0  ...                              0.0   \n",
            "4                                 0.0  ...                              0.0   \n",
            "\n",
            "   StreamingTV_Yes  StreamingMovies_No internet service  StreamingMovies_Yes  \\\n",
            "0              0.0                                  1.0                  0.0   \n",
            "1              0.0                                  0.0                  1.0   \n",
            "2              0.0                                  0.0                  0.0   \n",
            "3              1.0                                  0.0                  1.0   \n",
            "4              1.0                                  0.0                  0.0   \n",
            "\n",
            "   Contract_One year  Contract_Two year  PaperlessBilling_Yes  \\\n",
            "0                0.0                1.0                   0.0   \n",
            "1                1.0                0.0                   0.0   \n",
            "2                0.0                1.0                   0.0   \n",
            "3                1.0                0.0                   0.0   \n",
            "4                1.0                0.0                   0.0   \n",
            "\n",
            "   PaymentMethod_Credit card (automatic)  PaymentMethod_Electronic check  \\\n",
            "0                                    0.0                             0.0   \n",
            "1                                    1.0                             0.0   \n",
            "2                                    0.0                             0.0   \n",
            "3                                    0.0                             1.0   \n",
            "4                                    0.0                             1.0   \n",
            "\n",
            "   PaymentMethod_Mailed check  \n",
            "0                         1.0  \n",
            "1                         0.0  \n",
            "2                         0.0  \n",
            "3                         0.0  \n",
            "4                         0.0  \n",
            "\n",
            "[5 rows x 27 columns]\n",
            "\n",
            "Processed Test Data:\n",
            "   gender_Male  SeniorCitizen_1  Partner_Yes  Dependents_Yes  \\\n",
            "0          0.0              0.0          0.0             0.0   \n",
            "1          0.0              1.0          0.0             0.0   \n",
            "2          0.0              0.0          0.0             0.0   \n",
            "3          0.0              0.0          0.0             0.0   \n",
            "4          0.0              0.0          1.0             1.0   \n",
            "\n",
            "   PhoneService_Yes  MultipleLines_No phone service  MultipleLines_Yes  \\\n",
            "0               1.0                             0.0                0.0   \n",
            "1               1.0                             0.0                1.0   \n",
            "2               1.0                             0.0                0.0   \n",
            "3               1.0                             0.0                1.0   \n",
            "4               1.0                             0.0                0.0   \n",
            "\n",
            "   InternetService_Fiber optic  InternetService_No  \\\n",
            "0                          0.0                 0.0   \n",
            "1                          1.0                 0.0   \n",
            "2                          0.0                 0.0   \n",
            "3                          0.0                 0.0   \n",
            "4                          0.0                 0.0   \n",
            "\n",
            "   OnlineSecurity_No internet service  ...  StreamingTV_No internet service  \\\n",
            "0                                 0.0  ...                              0.0   \n",
            "1                                 0.0  ...                              0.0   \n",
            "2                                 0.0  ...                              0.0   \n",
            "3                                 0.0  ...                              0.0   \n",
            "4                                 0.0  ...                              0.0   \n",
            "\n",
            "   StreamingTV_Yes  StreamingMovies_No internet service  StreamingMovies_Yes  \\\n",
            "0              1.0                                  0.0                  1.0   \n",
            "1              1.0                                  0.0                  1.0   \n",
            "2              0.0                                  0.0                  0.0   \n",
            "3              0.0                                  0.0                  0.0   \n",
            "4              0.0                                  0.0                  1.0   \n",
            "\n",
            "   Contract_One year  Contract_Two year  PaperlessBilling_Yes  \\\n",
            "0                1.0                0.0                   1.0   \n",
            "1                0.0                1.0                   1.0   \n",
            "2                0.0                0.0                   1.0   \n",
            "3                0.0                0.0                   1.0   \n",
            "4                1.0                0.0                   1.0   \n",
            "\n",
            "   PaymentMethod_Credit card (automatic)  PaymentMethod_Electronic check  \\\n",
            "0                                    0.0                             0.0   \n",
            "1                                    0.0                             0.0   \n",
            "2                                    0.0                             0.0   \n",
            "3                                    0.0                             0.0   \n",
            "4                                    0.0                             0.0   \n",
            "\n",
            "   PaymentMethod_Mailed check  \n",
            "0                         0.0  \n",
            "1                         0.0  \n",
            "2                         0.0  \n",
            "3                         1.0  \n",
            "4                         1.0  \n",
            "\n",
            "[5 rows x 27 columns]\n"
          ]
        }
      ]
    },
    {
      "cell_type": "markdown",
      "source": [
        "## TASK-3:"
      ],
      "metadata": {
        "id": "GLIZWjeyOy4Z"
      }
    },
    {
      "cell_type": "markdown",
      "source": [
        "Combine scaled numerical and one-hot encoded categorical features into train and test set dataframes (use pd.concat)"
      ],
      "metadata": {
        "id": "leSzLPi1O2jg"
      }
    },
    {
      "cell_type": "code",
      "source": [
        "# Combine scaled numerical and one-hot encoded categorical features\n",
        "X_train_processed = pd.concat([X_train_num_scaled_df, X_train_cat_encoded_df], axis=1)\n",
        "X_test_processed = pd.concat([X_test_num_scaled_df, X_test_cat_encoded_df], axis=1)\n",
        "\n",
        "# Display the first few rows of the processed dataframes\n",
        "print(\"Processed Training Data:\")\n",
        "print(X_train_processed.head())\n",
        "print(\"\\nProcessed Test Data:\")\n",
        "print(X_test_processed.head())"
      ],
      "metadata": {
        "colab": {
          "base_uri": "https://localhost:8080/"
        },
        "id": "6n7qgLhrORkf",
        "outputId": "5863c968-d0cc-46e1-eef9-61fea20d7844"
      },
      "execution_count": 55,
      "outputs": [
        {
          "output_type": "stream",
          "name": "stdout",
          "text": [
            "Processed Training Data:\n",
            "     tenure  MonthlyCharges  TotalCharges  gender_Male  SeniorCitizen_1  \\\n",
            "0 -0.825884       -1.497530     -0.890947          1.0              0.0   \n",
            "1  0.395961        0.302996      0.389693          0.0              0.0   \n",
            "2  1.577078        0.012320      1.060945          1.0              0.0   \n",
            "3  1.577078        0.686687      1.775397          1.0              0.0   \n",
            "4 -0.092777        0.186726     -0.102671          1.0              0.0   \n",
            "\n",
            "   Partner_Yes  Dependents_Yes  PhoneService_Yes  \\\n",
            "0          1.0             1.0               1.0   \n",
            "1          0.0             0.0               1.0   \n",
            "2          1.0             0.0               1.0   \n",
            "3          1.0             1.0               1.0   \n",
            "4          0.0             0.0               1.0   \n",
            "\n",
            "   MultipleLines_No phone service  MultipleLines_Yes  ...  \\\n",
            "0                             0.0                0.0  ...   \n",
            "1                             0.0                0.0  ...   \n",
            "2                             0.0                1.0  ...   \n",
            "3                             0.0                1.0  ...   \n",
            "4                             0.0                0.0  ...   \n",
            "\n",
            "   StreamingTV_No internet service  StreamingTV_Yes  \\\n",
            "0                              1.0              0.0   \n",
            "1                              0.0              0.0   \n",
            "2                              0.0              0.0   \n",
            "3                              0.0              1.0   \n",
            "4                              0.0              1.0   \n",
            "\n",
            "   StreamingMovies_No internet service  StreamingMovies_Yes  \\\n",
            "0                                  1.0                  0.0   \n",
            "1                                  0.0                  1.0   \n",
            "2                                  0.0                  0.0   \n",
            "3                                  0.0                  1.0   \n",
            "4                                  0.0                  0.0   \n",
            "\n",
            "   Contract_One year  Contract_Two year  PaperlessBilling_Yes  \\\n",
            "0                0.0                1.0                   0.0   \n",
            "1                1.0                0.0                   0.0   \n",
            "2                0.0                1.0                   0.0   \n",
            "3                1.0                0.0                   0.0   \n",
            "4                1.0                0.0                   0.0   \n",
            "\n",
            "   PaymentMethod_Credit card (automatic)  PaymentMethod_Electronic check  \\\n",
            "0                                    0.0                             0.0   \n",
            "1                                    1.0                             0.0   \n",
            "2                                    0.0                             0.0   \n",
            "3                                    0.0                             1.0   \n",
            "4                                    0.0                             1.0   \n",
            "\n",
            "   PaymentMethod_Mailed check  \n",
            "0                         1.0  \n",
            "1                         0.0  \n",
            "2                         0.0  \n",
            "3                         0.0  \n",
            "4                         0.0  \n",
            "\n",
            "[5 rows x 30 columns]\n",
            "\n",
            "Processed Test Data:\n",
            "     tenure  MonthlyCharges  TotalCharges  gender_Male  SeniorCitizen_1  \\\n",
            "0  0.355233        0.500655      0.460383          0.0              0.0   \n",
            "1  1.373437        1.249767      1.850854          0.0              1.0   \n",
            "2 -0.825884       -0.657063     -0.773570          0.0              0.0   \n",
            "3 -1.110981       -0.471031     -0.894653          0.0              0.0   \n",
            "4 -0.907340        0.037235     -0.713691          0.0              0.0   \n",
            "\n",
            "   Partner_Yes  Dependents_Yes  PhoneService_Yes  \\\n",
            "0          0.0             0.0               1.0   \n",
            "1          0.0             0.0               1.0   \n",
            "2          0.0             0.0               1.0   \n",
            "3          0.0             0.0               1.0   \n",
            "4          1.0             1.0               1.0   \n",
            "\n",
            "   MultipleLines_No phone service  MultipleLines_Yes  ...  \\\n",
            "0                             0.0                0.0  ...   \n",
            "1                             0.0                1.0  ...   \n",
            "2                             0.0                0.0  ...   \n",
            "3                             0.0                1.0  ...   \n",
            "4                             0.0                0.0  ...   \n",
            "\n",
            "   StreamingTV_No internet service  StreamingTV_Yes  \\\n",
            "0                              0.0              1.0   \n",
            "1                              0.0              1.0   \n",
            "2                              0.0              0.0   \n",
            "3                              0.0              0.0   \n",
            "4                              0.0              0.0   \n",
            "\n",
            "   StreamingMovies_No internet service  StreamingMovies_Yes  \\\n",
            "0                                  0.0                  1.0   \n",
            "1                                  0.0                  1.0   \n",
            "2                                  0.0                  0.0   \n",
            "3                                  0.0                  0.0   \n",
            "4                                  0.0                  1.0   \n",
            "\n",
            "   Contract_One year  Contract_Two year  PaperlessBilling_Yes  \\\n",
            "0                1.0                0.0                   1.0   \n",
            "1                0.0                1.0                   1.0   \n",
            "2                0.0                0.0                   1.0   \n",
            "3                0.0                0.0                   1.0   \n",
            "4                1.0                0.0                   1.0   \n",
            "\n",
            "   PaymentMethod_Credit card (automatic)  PaymentMethod_Electronic check  \\\n",
            "0                                    0.0                             0.0   \n",
            "1                                    0.0                             0.0   \n",
            "2                                    0.0                             0.0   \n",
            "3                                    0.0                             0.0   \n",
            "4                                    0.0                             0.0   \n",
            "\n",
            "   PaymentMethod_Mailed check  \n",
            "0                         0.0  \n",
            "1                         0.0  \n",
            "2                         0.0  \n",
            "3                         1.0  \n",
            "4                         1.0  \n",
            "\n",
            "[5 rows x 30 columns]\n"
          ]
        }
      ]
    },
    {
      "cell_type": "markdown",
      "source": [
        "## Task-4:"
      ],
      "metadata": {
        "id": "HXA5s2NbPTBe"
      }
    },
    {
      "cell_type": "markdown",
      "source": [
        "Use scikit learn to train a random forest and extra trees classifier, and use xgboost and lightgbm to train an extreme boosting model and a light gradient boosting model. Use random_state = 1 for training all models and evaluate on the test set"
      ],
      "metadata": {
        "id": "oM_2vkKJPk1S"
      }
    },
    {
      "cell_type": "code",
      "source": [
        "# Initialize models\n",
        "models = {\n",
        "    'RandomForest': RandomForestClassifier(random_state=1),\n",
        "    'ExtraTrees': ExtraTreesClassifier(random_state=1),\n",
        "    'XGBoost': XGBClassifier(random_state=1, use_label_encoder=False, eval_metric='logloss'),\n",
        "    'LightGBM': LGBMClassifier(random_state=1)\n",
        "}\n",
        "\n",
        "# Train and evaluate models\n",
        "for name, model in models.items():\n",
        "    model.fit(X_train_processed, y_train)\n",
        "    y_pred = model.predict(X_test_processed)\n",
        "    print(f\"{name} Classification Report:\")\n",
        "    print(classification_report(y_test, y_pred))\n",
        "    print(\"-\" * 80)"
      ],
      "metadata": {
        "colab": {
          "base_uri": "https://localhost:8080/"
        },
        "id": "sVa7an8tPj_e",
        "outputId": "653c2753-3874-4216-f713-0ce227644940"
      },
      "execution_count": 56,
      "outputs": [
        {
          "output_type": "stream",
          "name": "stdout",
          "text": [
            "RandomForest Classification Report:\n",
            "              precision    recall  f1-score   support\n",
            "\n",
            "           0       0.86      0.88      0.87      1061\n",
            "           1       0.61      0.55      0.58       348\n",
            "\n",
            "    accuracy                           0.80      1409\n",
            "   macro avg       0.73      0.72      0.72      1409\n",
            "weighted avg       0.80      0.80      0.80      1409\n",
            "\n",
            "--------------------------------------------------------------------------------\n",
            "ExtraTrees Classification Report:\n",
            "              precision    recall  f1-score   support\n",
            "\n",
            "           0       0.84      0.87      0.86      1061\n",
            "           1       0.57      0.51      0.54       348\n",
            "\n",
            "    accuracy                           0.78      1409\n",
            "   macro avg       0.71      0.69      0.70      1409\n",
            "weighted avg       0.78      0.78      0.78      1409\n",
            "\n",
            "--------------------------------------------------------------------------------\n",
            "XGBoost Classification Report:\n",
            "              precision    recall  f1-score   support\n",
            "\n",
            "           0       0.86      0.88      0.87      1061\n",
            "           1       0.60      0.57      0.58       348\n",
            "\n",
            "    accuracy                           0.80      1409\n",
            "   macro avg       0.73      0.72      0.72      1409\n",
            "weighted avg       0.80      0.80      0.80      1409\n",
            "\n",
            "--------------------------------------------------------------------------------\n",
            "[LightGBM] [Warning] Found whitespace in feature_names, replace with underlines\n",
            "[LightGBM] [Info] Number of positive: 1521, number of negative: 4113\n",
            "[LightGBM] [Info] Auto-choosing row-wise multi-threading, the overhead of testing was 0.000980 seconds.\n",
            "You can set `force_row_wise=true` to remove the overhead.\n",
            "And if memory is not enough, you can set `force_col_wise=true`.\n",
            "[LightGBM] [Info] Total Bins 638\n",
            "[LightGBM] [Info] Number of data points in the train set: 5634, number of used features: 30\n",
            "[LightGBM] [Info] [binary:BoostFromScore]: pavg=0.269968 -> initscore=-0.994785\n",
            "[LightGBM] [Info] Start training from score -0.994785\n",
            "LightGBM Classification Report:\n",
            "              precision    recall  f1-score   support\n",
            "\n",
            "           0       0.86      0.89      0.88      1061\n",
            "           1       0.64      0.57      0.61       348\n",
            "\n",
            "    accuracy                           0.81      1409\n",
            "   macro avg       0.75      0.73      0.74      1409\n",
            "weighted avg       0.81      0.81      0.81      1409\n",
            "\n",
            "--------------------------------------------------------------------------------\n"
          ]
        }
      ]
    },
    {
      "cell_type": "markdown",
      "source": [
        "# QUIZ"
      ],
      "metadata": {
        "id": "KO04wOpnTcNO"
      }
    },
    {
      "cell_type": "markdown",
      "source": [
        "##Q-14"
      ],
      "metadata": {
        "id": "KY71bLCaTpbM"
      }
    },
    {
      "cell_type": "markdown",
      "source": [
        "ANS"
      ],
      "metadata": {
        "id": "WFfcGU92TwYb"
      }
    },
    {
      "cell_type": "code",
      "source": [],
      "metadata": {
        "id": "UecS6djbTnFM"
      },
      "execution_count": null,
      "outputs": []
    },
    {
      "cell_type": "markdown",
      "source": [
        "##Q-15"
      ],
      "metadata": {
        "id": "Yp3GpfWFT-YR"
      }
    },
    {
      "cell_type": "markdown",
      "source": [
        "ANS"
      ],
      "metadata": {
        "id": "KVM-8LeNUDdW"
      }
    },
    {
      "cell_type": "code",
      "source": [],
      "metadata": {
        "id": "sJbalhJNTi7F"
      },
      "execution_count": null,
      "outputs": []
    },
    {
      "cell_type": "markdown",
      "source": [
        "## Q-16"
      ],
      "metadata": {
        "id": "HhXdpQ3mUGsG"
      }
    },
    {
      "cell_type": "markdown",
      "source": [
        "ANS"
      ],
      "metadata": {
        "id": "XtDB0PSlUWiT"
      }
    },
    {
      "cell_type": "code",
      "source": [],
      "metadata": {
        "id": "LzWHrXBcUJVR"
      },
      "execution_count": null,
      "outputs": []
    },
    {
      "cell_type": "markdown",
      "source": [
        "## Q-17"
      ],
      "metadata": {
        "id": "W7cWL5e1UZEL"
      }
    },
    {
      "cell_type": "markdown",
      "source": [
        "ANS"
      ],
      "metadata": {
        "id": "oxjGVwUNUlkU"
      }
    },
    {
      "cell_type": "code",
      "source": [
        "\n",
        "\n",
        "# Define hyperparameter grid\n",
        "n_estimators = [50, 100, 300, 500, 1000]\n",
        "min_samples_split = [2, 3, 5, 7, 9]\n",
        "min_samples_leaf = [1, 2, 4, 6, 8]\n",
        "max_features = ['auto', 'sqrt', 'log2', None]\n",
        "hyperparameter_grid = {\n",
        "    'n_estimators': n_estimators,\n",
        "    'min_samples_leaf': min_samples_leaf,\n",
        "    'min_samples_split': min_samples_split,\n",
        "    'max_features': max_features\n",
        "}\n",
        "\n",
        "# Initialize Extra Trees Classifier\n",
        "et_classifier = ExtraTreesClassifier(random_state=1)\n",
        "\n",
        "# Initialize RandomizedSearchCV\n",
        "random_search = RandomizedSearchCV(estimator=et_classifier,\n",
        "                                   param_distributions=hyperparameter_grid,\n",
        "                                   n_iter=10,\n",
        "                                   scoring='accuracy',\n",
        "                                   cv=5,\n",
        "                                   n_jobs=-1,\n",
        "                                   verbose=1,\n",
        "                                   random_state=1)\n",
        "\n",
        "# Fit RandomizedSearchCV on the training data\n",
        "random_search.fit(X_train_processed, y_train)\n",
        "\n",
        "# Get the best hyperparameters\n",
        "best_params = random_search.best_params_\n",
        "print(\"Best Hyperparameters:\")\n",
        "print(best_params)\n"
      ],
      "metadata": {
        "id": "crsnqxy2Ukrf",
        "colab": {
          "base_uri": "https://localhost:8080/"
        },
        "outputId": "07d59eb6-d5e0-463b-acaf-cb0d8fdc6424"
      },
      "execution_count": 57,
      "outputs": [
        {
          "output_type": "stream",
          "name": "stdout",
          "text": [
            "Fitting 5 folds for each of 10 candidates, totalling 50 fits\n",
            "Best Hyperparameters:\n",
            "{'n_estimators': 1000, 'min_samples_split': 2, 'min_samples_leaf': 8, 'max_features': None}\n"
          ]
        }
      ]
    },
    {
      "cell_type": "markdown",
      "source": [
        "## Q-18"
      ],
      "metadata": {
        "id": "rk2eKS_SUo-L"
      }
    },
    {
      "cell_type": "markdown",
      "source": [
        "ANS"
      ],
      "metadata": {
        "id": "CstgvnzWUrc2"
      }
    },
    {
      "cell_type": "code",
      "source": [
        "\n",
        "\n",
        "# Initialize Extra Trees Classifier with the best hyperparameters\n",
        "optimal_et_classifier = ExtraTreesClassifier(random_state=1, **best_params)\n",
        "\n",
        "# Train the new model\n",
        "optimal_et_classifier.fit(X_train_processed, y_train)\n",
        "\n",
        "# Evaluate the accuracy of the new model on the test set\n",
        "accuracy_optimal = optimal_et_classifier.score(X_test_processed, y_test)\n",
        "\n",
        "# Print the accuracy of the new model\n",
        "print(\"Accuracy of the new optimal ExtraTreesClassifier model:\", accuracy_optimal)\n"
      ],
      "metadata": {
        "id": "QZY7z_nwUqpy",
        "colab": {
          "base_uri": "https://localhost:8080/"
        },
        "outputId": "08b300d3-d730-4bd2-bc68-d0b183a54842"
      },
      "execution_count": 58,
      "outputs": [
        {
          "output_type": "stream",
          "name": "stdout",
          "text": [
            "Accuracy of the new optimal ExtraTreesClassifier model: 0.8048261178140526\n"
          ]
        }
      ]
    },
    {
      "cell_type": "markdown",
      "source": [
        "## Q-19"
      ],
      "metadata": {
        "id": "9ujzxL0YUuJF"
      }
    },
    {
      "cell_type": "markdown",
      "source": [
        "ANS"
      ],
      "metadata": {
        "id": "9rwcYambU6Vr"
      }
    },
    {
      "cell_type": "code",
      "source": [],
      "metadata": {
        "id": "Z2_t_ZfjUwdU"
      },
      "execution_count": null,
      "outputs": []
    },
    {
      "cell_type": "markdown",
      "source": [
        "## Q-20"
      ],
      "metadata": {
        "id": "Q8AW3OJwU8Zb"
      }
    },
    {
      "cell_type": "markdown",
      "source": [
        "ANS"
      ],
      "metadata": {
        "id": "c40OjWTHU-66"
      }
    },
    {
      "cell_type": "code",
      "source": [
        "# Get feature importances from the optimal ExtraTreesClassifier model\n",
        "feature_importances = optimal_et_classifier.feature_importances_\n",
        "\n",
        "# Create a DataFrame to store feature importances along with feature names\n",
        "feature_importance_df = pd.DataFrame({'Feature': X_train_processed.columns, 'Importance': feature_importances})\n",
        "\n",
        "# Sort the DataFrame by feature importance in descending order\n",
        "feature_importance_df = feature_importance_df.sort_values(by='Importance', ascending=False)\n",
        "\n",
        "# Print the top two most important features\n",
        "print(\"Top two most important features:\")\n",
        "print(feature_importance_df.head(2))\n"
      ],
      "metadata": {
        "id": "l49QjcBVU-UM",
        "colab": {
          "base_uri": "https://localhost:8080/"
        },
        "outputId": "c067df9e-23c3-4a9a-e302-29a359a233b6"
      },
      "execution_count": 59,
      "outputs": [
        {
          "output_type": "stream",
          "name": "stdout",
          "text": [
            "Top two most important features:\n",
            "                        Feature  Importance\n",
            "0                        tenure    0.246930\n",
            "10  InternetService_Fiber optic    0.219039\n"
          ]
        }
      ]
    }
  ]
}